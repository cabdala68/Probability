{
  "nbformat": 4,
  "nbformat_minor": 0,
  "metadata": {
    "colab": {
      "name": "ayrik_combination_problem.ipynb",
      "provenance": [],
      "authorship_tag": "ABX9TyOGBm7GY+6e8SMaYovkgiR4",
      "include_colab_link": true
    },
    "kernelspec": {
      "name": "python3",
      "display_name": "Python 3"
    },
    "language_info": {
      "name": "python"
    }
  },
  "cells": [
    {
      "cell_type": "markdown",
      "metadata": {
        "id": "view-in-github",
        "colab_type": "text"
      },
      "source": [
        "<a href=\"https://colab.research.google.com/github/cabdala68/Probability/blob/main/ayrik_combination_problem.ipynb\" target=\"_parent\"><img src=\"https://colab.research.google.com/assets/colab-badge.svg\" alt=\"Open In Colab\"/></a>"
      ]
    },
    {
      "cell_type": "markdown",
      "metadata": {
        "id": "ioCjjeUMQPSH"
      },
      "source": [
        "**Kombinasyon Problemi**\n",
        "\n",
        "**Problem ?**\n",
        "\n",
        "**N**- Küçük Harf karakterinden oluşan bir liste verilmiş olsun.\n",
        "Belirli **K** tamsayısı için, listeden seçilen düzgün(**Uniform**) bir olasılığa sahip herhangi bir **K** endeksinin en az birinin \"**a**\" harfini içermesi olasılığı nedir?\n",
        "\n",
        "**KISITLAR**\n",
        "\n",
        "\n",
        "![image.png](data:image/png;base64,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)"
      ]
    },
    {
      "cell_type": "markdown",
      "metadata": {
        "id": "HUAsmHdKtqDE"
      },
      "source": [
        "**ÇÖZÜM**"
      ]
    },
    {
      "cell_type": "markdown",
      "metadata": {
        "id": "wNIFCOECtvg-"
      },
      "source": [
        "**Verilen** :"
      ]
    },
    {
      "cell_type": "markdown",
      "metadata": {
        "id": "wstKTR87xRT1"
      },
      "source": [
        "N= 4, harf karakter listesinin eleman sayısı  Liste=[a,a,c,d]"
      ]
    },
    {
      "cell_type": "markdown",
      "metadata": {
        "id": "yO2NmJRtxXQ7"
      },
      "source": [
        "K=2, listedeki her kombinasyonda olması istenen eleman sayısı."
      ]
    },
    {
      "cell_type": "markdown",
      "metadata": {
        "id": "9dNAf0tZxhZk"
      },
      "source": [
        "**kombinasyon**:   { (a,a), (a,c), (a,d) , (a,c) , (a,d) , (c,d) }        ---> Toplam 6 kombinasyon"
      ]
    },
    {
      "cell_type": "markdown",
      "metadata": {
        "id": "HRgY6_rlzUo5"
      },
      "source": [
        "K **İndisleme** = \n",
        "\n",
        "*   a = 1\n",
        "*   b = 2 \n",
        "\n",
        "*   c = 3\n",
        "*   d = 4\n",
        "\n",
        "desek, **K** indisleme\n",
        "(a,a), (a,c), (a,d) , (a,c) , (a,d) , (c,d)\n",
        "\n",
        "(1,1),(1,3), (1,4), (1,3), (1,4), (3,4) --> 5 kombinasyonda **a** mevcuttur\n",
        "\n",
        "**Olasılık** : istenen durum **/** Tüm durum\n",
        "\n",
        "**5/6** = 0.833\n",
        "\n"
      ]
    },
    {
      "cell_type": "code",
      "metadata": {
        "id": "8GzlGXnXP2B1"
      },
      "source": [
        "from itertools import combinations"
      ],
      "execution_count": null,
      "outputs": []
    },
    {
      "cell_type": "code",
      "metadata": {
        "colab": {
          "base_uri": "https://localhost:8080/"
        },
        "id": "rLBXxJW4QLrH",
        "outputId": "ef671837-69ac-42b3-d18d-3e86d15bb3d7"
      },
      "source": [
        "\n",
        "n=int(input())  #Listedeki eleman sayısı n input değeri\n",
        "\n",
        "l=list(input().split()) # harf listesi girişi için\n",
        "\n",
        "k=int(input())  # Harfleri kaç grup eleman şekilde kombinasyonu olacak\n",
        "\n",
        "c=list(combinations(l,k))  # Kombinasyonu oluşturmak için \n",
        "\n",
        "print(c) \n",
        "\n",
        "sonuc=[\n",
        "       i for i in c  \n",
        "       if 'a' in i ]     # Her kombinasyon için iterate yapmak için\n",
        "\n",
        "print(\"Olasılık : \"'%.3f'%(len(sonuc)/len(c)))"
      ],
      "execution_count": null,
      "outputs": [
        {
          "output_type": "stream",
          "text": [
            "10\n",
            "a c a b d i e f a a\n",
            "2\n",
            "\n",
            " [('a', 'c'), ('a', 'a'), ('a', 'b'), ('a', 'd'), ('a', 'i'), ('a', 'e'), ('a', 'f'), ('a', 'a'), ('a', 'a'), ('c', 'a'), ('c', 'b'), ('c', 'd'), ('c', 'i'), ('c', 'e'), ('c', 'f'), ('c', 'a'), ('c', 'a'), ('a', 'b'), ('a', 'd'), ('a', 'i'), ('a', 'e'), ('a', 'f'), ('a', 'a'), ('a', 'a'), ('b', 'd'), ('b', 'i'), ('b', 'e'), ('b', 'f'), ('b', 'a'), ('b', 'a'), ('d', 'i'), ('d', 'e'), ('d', 'f'), ('d', 'a'), ('d', 'a'), ('i', 'e'), ('i', 'f'), ('i', 'a'), ('i', 'a'), ('e', 'f'), ('e', 'a'), ('e', 'a'), ('f', 'a'), ('f', 'a'), ('a', 'a')]\n",
            "\n",
            "\n",
            "Olasılık : 0.667\n"
          ],
          "name": "stdout"
        }
      ]
    }
  ]
}