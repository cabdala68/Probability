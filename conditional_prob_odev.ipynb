{
  "nbformat": 4,
  "nbformat_minor": 0,
  "metadata": {
    "colab": {
      "name": "conditional_prob.ipynb",
      "provenance": [],
      "authorship_tag": "ABX9TyOhdiBytB3N1CqRae5YY1Xc",
      "include_colab_link": true
    },
    "kernelspec": {
      "name": "python3",
      "display_name": "Python 3"
    },
    "language_info": {
      "name": "python"
    }
  },
  "cells": [
    {
      "cell_type": "markdown",
      "metadata": {
        "id": "view-in-github",
        "colab_type": "text"
      },
      "source": [
        "<a href=\"https://colab.research.google.com/github/cabdala68/Probability/blob/main/conditional_prob_odev.ipynb\" target=\"_parent\"><img src=\"https://colab.research.google.com/assets/colab-badge.svg\" alt=\"Open In Colab\"/></a>"
      ]
    },
    {
      "cell_type": "markdown",
      "metadata": {
        "id": "vlTN3tdWCAc8"
      },
      "source": [
        "**KOŞULLU OLASILIK**"
      ]
    },
    {
      "cell_type": "markdown",
      "metadata": {
        "id": "gFKvWRSDCNRy"
      },
      "source": [
        "**PROBLEM**"
      ]
    },
    {
      "cell_type": "markdown",
      "metadata": {
        "id": "UeC9YXOQCpAQ"
      },
      "source": [
        "100.000 rastgele kişinin yaş grubu aralıklarına göre (20'li, 30'lu, 40'lı, 50'li, 60'li, 70'li ) ne kadar ürün satın aldıklarına dair veriler oluşturulmuş. Bu verilere göre :\n",
        "\n",
        "\n",
        "\n",
        "1.   **P( F | E )** = 30'lu yaşlarda olup ürün satın alma olsaılığı nedir?\n",
        "\n",
        "**Çözüm**\n",
        "\n",
        "*   P(E): ürün satın alma olasılığı \n",
        "*   P(F): 30'lu yaşlarda olup bir ürün satın alma olasılığı\n",
        "\n"
      ]
    },
    {
      "cell_type": "code",
      "metadata": {
        "id": "di2Avsm-GS_Q"
      },
      "source": [
        "from numpy import random"
      ],
      "execution_count": 2,
      "outputs": []
    },
    {
      "cell_type": "code",
      "metadata": {
        "id": "3STdMSR0GVdu"
      },
      "source": [
        "#Rasgele olarak yaş grubu, ve satın alımların üretilmesi\n",
        "\n",
        "random.seed(0)\n",
        "\n",
        "totals = {20:0, 30:0, 40:0, 50:0, 60:0, 70:0}  # total = her yaş grubundaki toplam kişi sayısını içerir.\n",
        "purchases = {20:0, 30:0, 40:0, 50:0, 60:0, 70:0} # her yaş grubundaki insanlar tarafından satın alınan toplam eşya/ürün sayısını içerir.\n",
        "totalPurchases = 0      # tüm satın alımlarının toplamı\n",
        "for _ in range(100000):\n",
        "    ageDecade = random.choice([20, 30, 40, 50, 60, 70])\n",
        "    purchaseProbability = float(ageDecade) / 100.0\n",
        "    totals[ageDecade] += 1\n",
        "    if (random.random() < purchaseProbability):\n",
        "        totalPurchases += 1\n",
        "        purchases[ageDecade] += 1"
      ],
      "execution_count": 5,
      "outputs": []
    },
    {
      "cell_type": "code",
      "metadata": {
        "colab": {
          "base_uri": "https://localhost:8080/"
        },
        "id": "xhF-oXFIIA2D",
        "outputId": "a262d8a2-71f4-42c0-b16d-961571a981f0"
      },
      "source": [
        "# rasgele olarak her yaş grubundaki toplam kişi sayısı\n",
        "totals"
      ],
      "execution_count": 6,
      "outputs": [
        {
          "output_type": "execute_result",
          "data": {
            "text/plain": [
              "{20: 16576, 30: 16619, 40: 16632, 50: 16805, 60: 16664, 70: 16704}"
            ]
          },
          "metadata": {
            "tags": []
          },
          "execution_count": 6
        }
      ]
    },
    {
      "cell_type": "code",
      "metadata": {
        "colab": {
          "base_uri": "https://localhost:8080/"
        },
        "id": "lOLoqcT3Iddc",
        "outputId": "20362f35-f4a9-40c1-aec6-454268309a3d"
      },
      "source": [
        "# rasgele olarak her yaş grubundaki insanlar tarafından satın alınan toplam eşya/ürün sayısı\n",
        "purchases"
      ],
      "execution_count": 7,
      "outputs": [
        {
          "output_type": "execute_result",
          "data": {
            "text/plain": [
              "{20: 3392, 30: 4974, 40: 6670, 50: 8319, 60: 9944, 70: 11713}"
            ]
          },
          "metadata": {
            "tags": []
          },
          "execution_count": 7
        }
      ]
    },
    {
      "cell_type": "code",
      "metadata": {
        "colab": {
          "base_uri": "https://localhost:8080/"
        },
        "id": "RAa2ICmQI3jk",
        "outputId": "3bb1bde3-24d4-4ae6-c644-3574089a5200"
      },
      "source": [
        "#tüm satın alımlarının toplamı\n",
        "totalPurchases"
      ],
      "execution_count": 8,
      "outputs": [
        {
          "output_type": "execute_result",
          "data": {
            "text/plain": [
              "45012"
            ]
          },
          "metadata": {
            "tags": []
          },
          "execution_count": 8
        }
      ]
    },
    {
      "cell_type": "markdown",
      "metadata": {
        "id": "d4bi_9tucFUL"
      },
      "source": [
        "**KOŞULLU** **OLASILIK** **HESAPLAMA**\n",
        "\n",
        "**P(F | E)**: 30'lu yaşlarda olup ürün satın alma olsaılığı \n",
        "\n",
        "Notasyon: \n",
        "\n",
        "**P(F | E)** = P(E ∩ F) / P(F)"
      ]
    },
    {
      "cell_type": "code",
      "metadata": {
        "colab": {
          "base_uri": "https://localhost:8080/"
        },
        "id": "uSm8dWEkeDRw",
        "outputId": "a02ca9bd-8e7c-4210-d754-f0d4199aceec"
      },
      "source": [
        "# Sadece 30'lu yaşlarda olmasının P(F) olasılığı\n",
        "PF = float(totals[30]) / 100000.0\n",
        "print(\"P(30'lu): \" +  str(PF))"
      ],
      "execution_count": 17,
      "outputs": [
        {
          "output_type": "stream",
          "text": [
            "P(30'lu): 0.16619\n"
          ],
          "name": "stdout"
        }
      ]
    },
    {
      "cell_type": "code",
      "metadata": {
        "colab": {
          "base_uri": "https://localhost:8080/"
        },
        "id": "dIIuNUZUcCQb",
        "outputId": "f719195a-499a-4da1-9edc-62100f9253b5"
      },
      "source": [
        "PEF = float(purchases[30]) / float(totals[30])\n",
        "print('P(ÜRÜN SATIN ALMASI | 30\" lu): ' + str(PEF))"
      ],
      "execution_count": 14,
      "outputs": [
        {
          "output_type": "stream",
          "text": [
            "P(ÜRÜN SATIN ALMASI | 30\" lu): 0.29929598652145134\n"
          ],
          "name": "stdout"
        }
      ]
    }
  ]
}